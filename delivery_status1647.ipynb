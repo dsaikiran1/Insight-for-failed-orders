{
  "cells": [
    {
      "cell_type": "markdown",
      "metadata": {
        "id": "aXdM6LvJc7W9"
      },
      "source": [
        "🎯 1. WHAT IS THE AIM OF THIS PROJECT?\n",
        "The goal is to analyze why some taxi orders fail in the Gett platform and uncover patterns behind those failures.\n",
        "\n",
        "🧾 Business Context\n",
        "Gett is a ride-hailing platform, similar to Uber or Ola. Customers place orders for rides via an app. These orders go through a matching system that connects them with drivers. However, not all orders succeed — some are cancelled or rejected.\n",
        "\n",
        "📌 You are being asked to:\n",
        "Investigate the failed orders — find out:\n",
        "\n",
        "Why they failed\n",
        "\n",
        "When they failed\n",
        "\n",
        "How they failed\n",
        "\n",
        "And where failures are concentrated\n",
        "\n",
        "This helps the company improve:\n",
        "\n",
        "Driver allocation\n",
        "\n",
        "ETA predictions\n",
        "\n",
        "Customer satisfaction\n",
        "\n",
        "Platform reliability\n",
        "\n",
        "🧰 2. WHAT DATA ARE YOU GIVEN?\n",
        "You are given two CSV files:\n",
        "\n",
        "🔹 data_orders.csv\n",
        "Each row = 1 ride order\n",
        "Columns:\n",
        "\n",
        "Column Name\tDescription\n",
        "order_datetime\tWhen the order was made\n",
        "origin_longitude / latitude\tWhere the order was placed\n",
        "m_order_eta\tEstimated Time of Arrival (ETA) of a car\n",
        "order_gk\tUnique ID of the order\n",
        "order_status_key\tOutcome of the order (4 = client canceled, 9 = rejected by system)\n",
        "is_driver_assigned_key\t1 if a driver was assigned, 0 otherwise\n",
        "cancellation_time_in_seconds\tTime before cancellation happened (if cancelled)\n",
        "\n",
        "🔹 data_offers.csv\n",
        "Just maps offers to orders:\n",
        "\n",
        "order_gk\toffer_id\n",
        "\n",
        "This file is mostly optional for core analysis — used if you want to explore which orders got offers.\n",
        "\n",
        "🧠 3. WHAT IS REQUIRED TO DO?\n",
        "You're asked to perform data analysis and visualizations to uncover why and how orders fail.\n",
        "\n",
        "You’ll answer 4 main questions:\n",
        "✅ Q1: What are the reasons for failure?\n",
        "Build a distribution plot of failed orders categorized as:\n",
        "\n",
        "Cancelled before driver assigned\n",
        "\n",
        "Cancelled after driver assigned\n",
        "\n",
        "Rejected by the system\n",
        "\n",
        "🎯 Goal: See which failure type is most common.\n",
        "\n",
        "✅ Q2: When do failures happen the most?\n",
        "Plot failed orders by hour of day (0 to 23)\n",
        "\n",
        "See if any failure type spikes at specific hours (e.g. morning rush?)\n",
        "\n",
        "🎯 Goal: Identify high-risk time windows for failures.\n",
        "\n",
        "✅ Q3: How long do cancellations take, with and without driver?\n",
        "Compare average time to cancellation:\n",
        "\n",
        "When driver was assigned vs not\n",
        "\n",
        "By hour of day\n",
        "\n",
        "🎯 Goal: See if users cancel faster when no driver is assigned, and how this changes through the day.\n",
        "\n",
        "✅ Q4: Does ETA impact failure?\n",
        "Plot average ETA (Estimated Time of Arrival) by hour.\n",
        "\n",
        "🎯 Goal: Understand whether longer ETA (wait times) during certain hours may lead to more cancellations.\n",
        "\n",
        "⭐ BONUS: Where do most failures happen?\n",
        "Use GPS data with H3 (hexagons) and Folium (maps) to:\n",
        "\n",
        "Count how many geographic hexes contain 80% of all orders\n",
        "\n",
        "Visualize them colored by number of failures\n",
        "\n",
        "🎯 Goal: Spot problem areas on the map to optimize driver coverage.\n",
        "\n",
        "🔍 4. WHAT TO OBSERVE OR PREDICT?\n",
        "You're not predicting right now — you’re doing exploratory data analysis (EDA).\n",
        "But your observations should answer:\n",
        "\n",
        "Business Question\tWhat to observe\n",
        "What’s the most common reason for failure?\tCount of each failure type\n",
        "When do failures spike?\tHourly trend of failures\n",
        "Does driver assignment affect cancellations?\tCompare cancel time with/without driver\n",
        "Does ETA affect failures?\tLong ETA → more client cancellations?\n",
        "Where are failures concentrated?\tLocations using hexbin maps\n",
        "\n",
        "📈 5. DELIVERABLE FORMAT\n",
        "You are expected to present:\n",
        "\n",
        "Well-structured Python code (ideally in Jupyter Notebook)\n",
        "\n",
        "Cleaned and merged data\n",
        "\n",
        "Well-labeled plots\n",
        "a\n",
        "Bullet-pointed or Markdown summary of insights for each task\n",
        "\n",
        "🚀 Summary\n",
        "✅ Task\t🔍 You Analyze...\n",
        "Q1: Failure reasons\tCancellation before/after driver, system reject\n",
        "Q2: Time-based trend\tFailures by hour\n",
        "Q3: Time-to-cancel\tWith/without driver, by hour\n",
        "Q4: ETA by hour\tDo higher ETAs correlate with failures?\n",
        "BONUS: Location clustering\tSpatial hotspot of failed orders\n",
        "\n"
      ]
    },
    {
      "cell_type": "code",
      "execution_count": 6,
      "metadata": {
        "id": "HMThNGK5XvX4"
      },
      "outputs": [],
      "source": [
        "import seaborn as sns\n",
        "import matplotlib.pyplot as plt\n",
        "import pandas as pd\n",
        "import numpy as np\n",
        "%matplotlib inline"
      ]
    },
    {
      "cell_type": "markdown",
      "metadata": {},
      "source": []
    },
    {
      "cell_type": "code",
      "execution_count": 7,
      "metadata": {
        "id": "zpO7U3b8LSQu"
      },
      "outputs": [],
      "source": [
        "\n",
        "data_orders_df = pd.read_csv('data_orders.csv')\n",
        "data_offers_df = pd.read_csv('data_offers.csv')\n"
      ]
    },
    {
      "cell_type": "code",
      "execution_count": 8,
      "metadata": {
        "colab": {
          "base_uri": "https://localhost:8080/",
          "height": 206
        },
        "id": "8OODih-4LsFV",
        "outputId": "6afb87a9-f217-4d4b-bed2-331abaaa2907"
      },
      "outputs": [
        {
          "data": {
            "text/html": [
              "<div>\n",
              "<style scoped>\n",
              "    .dataframe tbody tr th:only-of-type {\n",
              "        vertical-align: middle;\n",
              "    }\n",
              "\n",
              "    .dataframe tbody tr th {\n",
              "        vertical-align: top;\n",
              "    }\n",
              "\n",
              "    .dataframe thead th {\n",
              "        text-align: right;\n",
              "    }\n",
              "</style>\n",
              "<table border=\"1\" class=\"dataframe\">\n",
              "  <thead>\n",
              "    <tr style=\"text-align: right;\">\n",
              "      <th></th>\n",
              "      <th>order_gk</th>\n",
              "      <th>offer_id</th>\n",
              "    </tr>\n",
              "  </thead>\n",
              "  <tbody>\n",
              "    <tr>\n",
              "      <th>0</th>\n",
              "      <td>3000579625629</td>\n",
              "      <td>300050936206</td>\n",
              "    </tr>\n",
              "    <tr>\n",
              "      <th>1</th>\n",
              "      <td>3000627306450</td>\n",
              "      <td>300052064651</td>\n",
              "    </tr>\n",
              "    <tr>\n",
              "      <th>2</th>\n",
              "      <td>3000632920686</td>\n",
              "      <td>300052408812</td>\n",
              "    </tr>\n",
              "    <tr>\n",
              "      <th>3</th>\n",
              "      <td>3000632771725</td>\n",
              "      <td>300052393030</td>\n",
              "    </tr>\n",
              "    <tr>\n",
              "      <th>4</th>\n",
              "      <td>3000583467642</td>\n",
              "      <td>300051001196</td>\n",
              "    </tr>\n",
              "  </tbody>\n",
              "</table>\n",
              "</div>"
            ],
            "text/plain": [
              "        order_gk      offer_id\n",
              "0  3000579625629  300050936206\n",
              "1  3000627306450  300052064651\n",
              "2  3000632920686  300052408812\n",
              "3  3000632771725  300052393030\n",
              "4  3000583467642  300051001196"
            ]
          },
          "execution_count": 8,
          "metadata": {},
          "output_type": "execute_result"
        }
      ],
      "source": [
        "data_offers_df.head()\n"
      ]
    },
    {
      "cell_type": "code",
      "execution_count": 9,
      "metadata": {
        "colab": {
          "base_uri": "https://localhost:8080/",
          "height": 206
        },
        "id": "h5FUr0p9Mh2X",
        "outputId": "8d148247-262a-48b3-c1ba-3693da3891ab"
      },
      "outputs": [
        {
          "data": {
            "text/html": [
              "<div>\n",
              "<style scoped>\n",
              "    .dataframe tbody tr th:only-of-type {\n",
              "        vertical-align: middle;\n",
              "    }\n",
              "\n",
              "    .dataframe tbody tr th {\n",
              "        vertical-align: top;\n",
              "    }\n",
              "\n",
              "    .dataframe thead th {\n",
              "        text-align: right;\n",
              "    }\n",
              "</style>\n",
              "<table border=\"1\" class=\"dataframe\">\n",
              "  <thead>\n",
              "    <tr style=\"text-align: right;\">\n",
              "      <th></th>\n",
              "      <th>order_datetime</th>\n",
              "      <th>origin_longitude</th>\n",
              "      <th>origin_latitude</th>\n",
              "      <th>m_order_eta</th>\n",
              "      <th>order_gk</th>\n",
              "      <th>order_status_key</th>\n",
              "      <th>is_driver_assigned_key</th>\n",
              "      <th>cancellations_time_in_seconds</th>\n",
              "    </tr>\n",
              "  </thead>\n",
              "  <tbody>\n",
              "    <tr>\n",
              "      <th>0</th>\n",
              "      <td>18:08:07</td>\n",
              "      <td>-0.978916</td>\n",
              "      <td>51.456173</td>\n",
              "      <td>60.0</td>\n",
              "      <td>3000583041974</td>\n",
              "      <td>4</td>\n",
              "      <td>1</td>\n",
              "      <td>198.0</td>\n",
              "    </tr>\n",
              "    <tr>\n",
              "      <th>1</th>\n",
              "      <td>20:57:32</td>\n",
              "      <td>-0.950385</td>\n",
              "      <td>51.456843</td>\n",
              "      <td>NaN</td>\n",
              "      <td>3000583116437</td>\n",
              "      <td>4</td>\n",
              "      <td>0</td>\n",
              "      <td>128.0</td>\n",
              "    </tr>\n",
              "    <tr>\n",
              "      <th>2</th>\n",
              "      <td>12:07:50</td>\n",
              "      <td>-0.969520</td>\n",
              "      <td>51.455544</td>\n",
              "      <td>477.0</td>\n",
              "      <td>3000582891479</td>\n",
              "      <td>4</td>\n",
              "      <td>1</td>\n",
              "      <td>46.0</td>\n",
              "    </tr>\n",
              "    <tr>\n",
              "      <th>3</th>\n",
              "      <td>13:50:20</td>\n",
              "      <td>-1.054671</td>\n",
              "      <td>51.460544</td>\n",
              "      <td>658.0</td>\n",
              "      <td>3000582941169</td>\n",
              "      <td>4</td>\n",
              "      <td>1</td>\n",
              "      <td>62.0</td>\n",
              "    </tr>\n",
              "    <tr>\n",
              "      <th>4</th>\n",
              "      <td>21:24:45</td>\n",
              "      <td>-0.967605</td>\n",
              "      <td>51.458236</td>\n",
              "      <td>NaN</td>\n",
              "      <td>3000583140877</td>\n",
              "      <td>9</td>\n",
              "      <td>0</td>\n",
              "      <td>NaN</td>\n",
              "    </tr>\n",
              "  </tbody>\n",
              "</table>\n",
              "</div>"
            ],
            "text/plain": [
              "  order_datetime  origin_longitude  origin_latitude  m_order_eta  \\\n",
              "0       18:08:07         -0.978916        51.456173         60.0   \n",
              "1       20:57:32         -0.950385        51.456843          NaN   \n",
              "2       12:07:50         -0.969520        51.455544        477.0   \n",
              "3       13:50:20         -1.054671        51.460544        658.0   \n",
              "4       21:24:45         -0.967605        51.458236          NaN   \n",
              "\n",
              "        order_gk  order_status_key  is_driver_assigned_key  \\\n",
              "0  3000583041974                 4                       1   \n",
              "1  3000583116437                 4                       0   \n",
              "2  3000582891479                 4                       1   \n",
              "3  3000582941169                 4                       1   \n",
              "4  3000583140877                 9                       0   \n",
              "\n",
              "   cancellations_time_in_seconds  \n",
              "0                          198.0  \n",
              "1                          128.0  \n",
              "2                           46.0  \n",
              "3                           62.0  \n",
              "4                            NaN  "
            ]
          },
          "execution_count": 9,
          "metadata": {},
          "output_type": "execute_result"
        }
      ],
      "source": [
        "data_orders_df.head()"
      ]
    },
    {
      "cell_type": "code",
      "execution_count": 10,
      "metadata": {
        "colab": {
          "base_uri": "https://localhost:8080/",
          "height": 300
        },
        "id": "cByryXcOMrLX",
        "outputId": "093a2edc-bf17-46b7-bfdf-bd44307ae428"
      },
      "outputs": [
        {
          "data": {
            "text/html": [
              "<div>\n",
              "<style scoped>\n",
              "    .dataframe tbody tr th:only-of-type {\n",
              "        vertical-align: middle;\n",
              "    }\n",
              "\n",
              "    .dataframe tbody tr th {\n",
              "        vertical-align: top;\n",
              "    }\n",
              "\n",
              "    .dataframe thead th {\n",
              "        text-align: right;\n",
              "    }\n",
              "</style>\n",
              "<table border=\"1\" class=\"dataframe\">\n",
              "  <thead>\n",
              "    <tr style=\"text-align: right;\">\n",
              "      <th></th>\n",
              "      <th>order_gk</th>\n",
              "      <th>offer_id</th>\n",
              "    </tr>\n",
              "  </thead>\n",
              "  <tbody>\n",
              "    <tr>\n",
              "      <th>count</th>\n",
              "      <td>3.343630e+05</td>\n",
              "      <td>3.343630e+05</td>\n",
              "    </tr>\n",
              "    <tr>\n",
              "      <th>mean</th>\n",
              "      <td>3.000602e+12</td>\n",
              "      <td>3.000515e+11</td>\n",
              "    </tr>\n",
              "    <tr>\n",
              "      <th>std</th>\n",
              "      <td>2.431638e+07</td>\n",
              "      <td>5.276821e+05</td>\n",
              "    </tr>\n",
              "    <tr>\n",
              "      <th>min</th>\n",
              "      <td>3.000551e+12</td>\n",
              "      <td>3.000506e+11</td>\n",
              "    </tr>\n",
              "    <tr>\n",
              "      <th>25%</th>\n",
              "      <td>3.000585e+12</td>\n",
              "      <td>3.000511e+11</td>\n",
              "    </tr>\n",
              "    <tr>\n",
              "      <th>50%</th>\n",
              "      <td>3.000596e+12</td>\n",
              "      <td>3.000516e+11</td>\n",
              "    </tr>\n",
              "    <tr>\n",
              "      <th>75%</th>\n",
              "      <td>3.000625e+12</td>\n",
              "      <td>3.000520e+11</td>\n",
              "    </tr>\n",
              "    <tr>\n",
              "      <th>max</th>\n",
              "      <td>3.000633e+12</td>\n",
              "      <td>3.000524e+11</td>\n",
              "    </tr>\n",
              "  </tbody>\n",
              "</table>\n",
              "</div>"
            ],
            "text/plain": [
              "           order_gk      offer_id\n",
              "count  3.343630e+05  3.343630e+05\n",
              "mean   3.000602e+12  3.000515e+11\n",
              "std    2.431638e+07  5.276821e+05\n",
              "min    3.000551e+12  3.000506e+11\n",
              "25%    3.000585e+12  3.000511e+11\n",
              "50%    3.000596e+12  3.000516e+11\n",
              "75%    3.000625e+12  3.000520e+11\n",
              "max    3.000633e+12  3.000524e+11"
            ]
          },
          "execution_count": 10,
          "metadata": {},
          "output_type": "execute_result"
        }
      ],
      "source": [
        "data_offers_df.describe()"
      ]
    },
    {
      "cell_type": "code",
      "execution_count": 11,
      "metadata": {
        "colab": {
          "base_uri": "https://localhost:8080/",
          "height": 300
        },
        "id": "rg1UMk5DM0PT",
        "outputId": "f02b91f4-4e9d-40d2-931a-7717bf095f6f"
      },
      "outputs": [
        {
          "data": {
            "text/html": [
              "<div>\n",
              "<style scoped>\n",
              "    .dataframe tbody tr th:only-of-type {\n",
              "        vertical-align: middle;\n",
              "    }\n",
              "\n",
              "    .dataframe tbody tr th {\n",
              "        vertical-align: top;\n",
              "    }\n",
              "\n",
              "    .dataframe thead th {\n",
              "        text-align: right;\n",
              "    }\n",
              "</style>\n",
              "<table border=\"1\" class=\"dataframe\">\n",
              "  <thead>\n",
              "    <tr style=\"text-align: right;\">\n",
              "      <th></th>\n",
              "      <th>origin_longitude</th>\n",
              "      <th>origin_latitude</th>\n",
              "      <th>m_order_eta</th>\n",
              "      <th>order_gk</th>\n",
              "      <th>order_status_key</th>\n",
              "      <th>is_driver_assigned_key</th>\n",
              "      <th>cancellations_time_in_seconds</th>\n",
              "    </tr>\n",
              "  </thead>\n",
              "  <tbody>\n",
              "    <tr>\n",
              "      <th>count</th>\n",
              "      <td>10716.000000</td>\n",
              "      <td>10716.000000</td>\n",
              "      <td>2814.000000</td>\n",
              "      <td>1.071600e+04</td>\n",
              "      <td>10716.000000</td>\n",
              "      <td>10716.000000</td>\n",
              "      <td>7307.000000</td>\n",
              "    </tr>\n",
              "    <tr>\n",
              "      <th>mean</th>\n",
              "      <td>-0.964323</td>\n",
              "      <td>51.450541</td>\n",
              "      <td>441.415423</td>\n",
              "      <td>3.000598e+12</td>\n",
              "      <td>5.590612</td>\n",
              "      <td>0.262598</td>\n",
              "      <td>157.892021</td>\n",
              "    </tr>\n",
              "    <tr>\n",
              "      <th>std</th>\n",
              "      <td>0.022818</td>\n",
              "      <td>0.011984</td>\n",
              "      <td>288.006379</td>\n",
              "      <td>2.396261e+07</td>\n",
              "      <td>2.328845</td>\n",
              "      <td>0.440066</td>\n",
              "      <td>213.366963</td>\n",
              "    </tr>\n",
              "    <tr>\n",
              "      <th>min</th>\n",
              "      <td>-1.066957</td>\n",
              "      <td>51.399323</td>\n",
              "      <td>60.000000</td>\n",
              "      <td>3.000550e+12</td>\n",
              "      <td>4.000000</td>\n",
              "      <td>0.000000</td>\n",
              "      <td>3.000000</td>\n",
              "    </tr>\n",
              "    <tr>\n",
              "      <th>25%</th>\n",
              "      <td>-0.974363</td>\n",
              "      <td>51.444643</td>\n",
              "      <td>233.000000</td>\n",
              "      <td>3.000583e+12</td>\n",
              "      <td>4.000000</td>\n",
              "      <td>0.000000</td>\n",
              "      <td>45.000000</td>\n",
              "    </tr>\n",
              "    <tr>\n",
              "      <th>50%</th>\n",
              "      <td>-0.966386</td>\n",
              "      <td>51.451972</td>\n",
              "      <td>368.500000</td>\n",
              "      <td>3.000595e+12</td>\n",
              "      <td>4.000000</td>\n",
              "      <td>0.000000</td>\n",
              "      <td>98.000000</td>\n",
              "    </tr>\n",
              "    <tr>\n",
              "      <th>75%</th>\n",
              "      <td>-0.949605</td>\n",
              "      <td>51.456725</td>\n",
              "      <td>653.000000</td>\n",
              "      <td>3.000623e+12</td>\n",
              "      <td>9.000000</td>\n",
              "      <td>1.000000</td>\n",
              "      <td>187.500000</td>\n",
              "    </tr>\n",
              "    <tr>\n",
              "      <th>max</th>\n",
              "      <td>-0.867088</td>\n",
              "      <td>51.496169</td>\n",
              "      <td>1559.000000</td>\n",
              "      <td>3.000633e+12</td>\n",
              "      <td>9.000000</td>\n",
              "      <td>1.000000</td>\n",
              "      <td>4303.000000</td>\n",
              "    </tr>\n",
              "  </tbody>\n",
              "</table>\n",
              "</div>"
            ],
            "text/plain": [
              "       origin_longitude  origin_latitude  m_order_eta      order_gk  \\\n",
              "count      10716.000000     10716.000000  2814.000000  1.071600e+04   \n",
              "mean          -0.964323        51.450541   441.415423  3.000598e+12   \n",
              "std            0.022818         0.011984   288.006379  2.396261e+07   \n",
              "min           -1.066957        51.399323    60.000000  3.000550e+12   \n",
              "25%           -0.974363        51.444643   233.000000  3.000583e+12   \n",
              "50%           -0.966386        51.451972   368.500000  3.000595e+12   \n",
              "75%           -0.949605        51.456725   653.000000  3.000623e+12   \n",
              "max           -0.867088        51.496169  1559.000000  3.000633e+12   \n",
              "\n",
              "       order_status_key  is_driver_assigned_key  cancellations_time_in_seconds  \n",
              "count      10716.000000            10716.000000                    7307.000000  \n",
              "mean           5.590612                0.262598                     157.892021  \n",
              "std            2.328845                0.440066                     213.366963  \n",
              "min            4.000000                0.000000                       3.000000  \n",
              "25%            4.000000                0.000000                      45.000000  \n",
              "50%            4.000000                0.000000                      98.000000  \n",
              "75%            9.000000                1.000000                     187.500000  \n",
              "max            9.000000                1.000000                    4303.000000  "
            ]
          },
          "execution_count": 11,
          "metadata": {},
          "output_type": "execute_result"
        }
      ],
      "source": [
        "data_orders_df.describe()"
      ]
    },
    {
      "cell_type": "code",
      "execution_count": 12,
      "metadata": {
        "colab": {
          "base_uri": "https://localhost:8080/"
        },
        "id": "Ng06M_egP8jP",
        "outputId": "b309bb8b-a951-4257-914a-b282f055736c"
      },
      "outputs": [
        {
          "name": "stdout",
          "output_type": "stream",
          "text": [
            "<class 'pandas.core.frame.DataFrame'>\n",
            "RangeIndex: 10716 entries, 0 to 10715\n",
            "Data columns (total 8 columns):\n",
            " #   Column                         Non-Null Count  Dtype  \n",
            "---  ------                         --------------  -----  \n",
            " 0   order_datetime                 10716 non-null  object \n",
            " 1   origin_longitude               10716 non-null  float64\n",
            " 2   origin_latitude                10716 non-null  float64\n",
            " 3   m_order_eta                    2814 non-null   float64\n",
            " 4   order_gk                       10716 non-null  int64  \n",
            " 5   order_status_key               10716 non-null  int64  \n",
            " 6   is_driver_assigned_key         10716 non-null  int64  \n",
            " 7   cancellations_time_in_seconds  7307 non-null   float64\n",
            "dtypes: float64(4), int64(3), object(1)\n",
            "memory usage: 669.9+ KB\n"
          ]
        }
      ],
      "source": [
        "data_orders_df.info()"
      ]
    },
    {
      "cell_type": "code",
      "execution_count": 13,
      "metadata": {
        "colab": {
          "base_uri": "https://localhost:8080/",
          "height": 335
        },
        "id": "w-wi8n0gQQzh",
        "outputId": "8ebffb1b-22b1-4876-f736-381795e30228"
      },
      "outputs": [
        {
          "data": {
            "text/plain": [
              "order_datetime                      0\n",
              "origin_longitude                    0\n",
              "origin_latitude                     0\n",
              "m_order_eta                      7902\n",
              "order_gk                            0\n",
              "order_status_key                    0\n",
              "is_driver_assigned_key              0\n",
              "cancellations_time_in_seconds    3409\n",
              "dtype: int64"
            ]
          },
          "execution_count": 13,
          "metadata": {},
          "output_type": "execute_result"
        }
      ],
      "source": [
        "data_orders_df.isnull().sum()"
      ]
    },
    {
      "cell_type": "code",
      "execution_count": 14,
      "metadata": {
        "id": "GnL-hmNKeppM"
      },
      "outputs": [],
      "source": [
        "df_orders = data_orders_df.copy()"
      ]
    },
    {
      "cell_type": "code",
      "execution_count": 15,
      "metadata": {
        "colab": {
          "base_uri": "https://localhost:8080/"
        },
        "id": "2JqigMXa_IM6",
        "outputId": "2c53ac4a-4349-450e-a319-58f8ee8ed4c1"
      },
      "outputs": [
        {
          "name": "stdout",
          "output_type": "stream",
          "text": [
            "2814\n"
          ]
        }
      ],
      "source": [
        "# when the 'm_order_eta' is not missing and driver is assigned\n",
        "cnt = 0\n",
        "for row in df_orders.iterrows():\n",
        "    if pd.notna(row[1]['m_order_eta']) and row[1]['is_driver_assigned_key'] == 1:\n",
        "        cnt += 1\n",
        "print(cnt)\n"
      ]
    },
    {
      "cell_type": "code",
      "execution_count": 16,
      "metadata": {
        "colab": {
          "base_uri": "https://localhost:8080/",
          "height": 467
        },
        "id": "IgSefjIY_Vi5",
        "outputId": "a3517d9f-3455-495b-b1b6-a8dd835eb8c1"
      },
      "outputs": [
        {
          "data": {
            "text/plain": [
              "<Axes: xlabel='is_driver_assigned_key', ylabel='count'>"
            ]
          },
          "execution_count": 16,
          "metadata": {},
          "output_type": "execute_result"
        },
        {
          "data": {
            "image/png": "[encoded data removed]",
            "text/plain": [
              "<Figure size 640x480 with 1 Axes>"
            ]
          },
          "metadata": {},
          "output_type": "display_data"
        }
      ],
      "source": [
        "sns.countplot(df_orders[df_orders['m_order_eta'].isna()], x='is_driver_assigned_key')"
      ]
    },
    {
      "cell_type": "code",
      "execution_count": 17,
      "metadata": {
        "colab": {
          "base_uri": "https://localhost:8080/"
        },
        "id": "ZjBEJTs6AC9W",
        "outputId": "bbf66d92-375f-4d51-f4da-1280127fc8b5"
      },
      "outputs": [
        {
          "name": "stdout",
          "output_type": "stream",
          "text": [
            "ETA Missing      False  True \n",
            "Driver Assigned              \n",
            "0                    0   7902\n",
            "1                 2814      0\n"
          ]
        }
      ],
      "source": [
        "df_orders['eta_missing'] = df_orders['m_order_eta'].isna()\n",
        "\n",
        "# Cross-tab: rows = driver assigned, columns = eta missing\n",
        "crosstab_result = pd.crosstab(\n",
        "    df_orders['is_driver_assigned_key'],\n",
        "    df_orders['eta_missing'],\n",
        "    rownames=['Driver Assigned'],\n",
        "    colnames=['ETA Missing']\n",
        ")\n",
        "\n",
        "print(crosstab_result)\n"
      ]
    },
    {
      "cell_type": "markdown",
      "metadata": {
        "id": "srxJewvHDkME"
      },
      "source": [
        "so when the driver was not assined the eta is null because could not estimate the time of arrival"
      ]
    },
    {
      "cell_type": "code",
      "execution_count": 18,
      "metadata": {
        "colab": {
          "base_uri": "https://localhost:8080/"
        },
        "id": "40iNWCRgDvFj",
        "outputId": "21347504-c9f9-428d-b805-c9bd6c0302b6"
      },
      "outputs": [
        {
          "name": "stdout",
          "output_type": "stream",
          "text": [
            "ETA Missing        False  True \n",
            "order rejected by              \n",
            "4                   2811   4496\n",
            "9                      3   3406\n"
          ]
        }
      ],
      "source": [
        "df_orders['eta_missing'] = df_orders['m_order_eta'].isna()\n",
        "\n",
        "# Cross-tab: rows = driver assigned, columns = eta missing\n",
        "crosstab_result = pd.crosstab(\n",
        "    df_orders['order_status_key'],\n",
        "    df_orders['eta_missing'],\n",
        "    rownames=['order rejected by'],\n",
        "    colnames=['ETA Missing']\n",
        ")\n",
        "\n",
        "print(crosstab_result)\n"
      ]
    },
    {
      "cell_type": "markdown",
      "metadata": {
        "id": "KTItppPHG2XT"
      },
      "source": [
        "Row 4 = Orders where the client cancelled:\n",
        "\n",
        "2811 had ETA (i.e., ETA was generated before they cancelled)\n",
        "\n",
        "4496 did not have ETA (likely cancelled before a driver was assigned)\n",
        "\n",
        "Row 9 = Orders rejected by the system:\n",
        "\n",
        "3 had ETA (very rare — probably assigned before being rejected)\n",
        "\n",
        "3406 did not have ETA — almost all system rejections never reached a stage where ETA was calculated."
      ]
    },
    {
      "cell_type": "code",
      "execution_count": 19,
      "metadata": {
        "id": "cm4ecKHtGEDQ"
      },
      "outputs": [],
      "source": [
        "df_orders['m_order_eta'] = df_orders['m_order_eta'].fillna(-1)"
      ]
    },
    {
      "cell_type": "code",
      "execution_count": 20,
      "metadata": {
        "colab": {
          "base_uri": "https://localhost:8080/",
          "height": 206
        },
        "id": "PkAQeZb7HmJq",
        "outputId": "4ebb8fcd-8e86-4984-b081-bc5cefe288b6"
      },
      "outputs": [
        {
          "data": {
            "text/html": [
              "<div>\n",
              "<style scoped>\n",
              "    .dataframe tbody tr th:only-of-type {\n",
              "        vertical-align: middle;\n",
              "    }\n",
              "\n",
              "    .dataframe tbody tr th {\n",
              "        vertical-align: top;\n",
              "    }\n",
              "\n",
              "    .dataframe thead th {\n",
              "        text-align: right;\n",
              "    }\n",
              "</style>\n",
              "<table border=\"1\" class=\"dataframe\">\n",
              "  <thead>\n",
              "    <tr style=\"text-align: right;\">\n",
              "      <th></th>\n",
              "      <th>order_datetime</th>\n",
              "      <th>origin_longitude</th>\n",
              "      <th>origin_latitude</th>\n",
              "      <th>m_order_eta</th>\n",
              "      <th>order_gk</th>\n",
              "      <th>order_status_key</th>\n",
              "      <th>is_driver_assigned_key</th>\n",
              "      <th>cancellations_time_in_seconds</th>\n",
              "      <th>eta_missing</th>\n",
              "    </tr>\n",
              "  </thead>\n",
              "  <tbody>\n",
              "    <tr>\n",
              "      <th>0</th>\n",
              "      <td>18:08:07</td>\n",
              "      <td>-0.978916</td>\n",
              "      <td>51.456173</td>\n",
              "      <td>60.0</td>\n",
              "      <td>3000583041974</td>\n",
              "      <td>4</td>\n",
              "      <td>1</td>\n",
              "      <td>198.0</td>\n",
              "      <td>False</td>\n",
              "    </tr>\n",
              "    <tr>\n",
              "      <th>1</th>\n",
              "      <td>20:57:32</td>\n",
              "      <td>-0.950385</td>\n",
              "      <td>51.456843</td>\n",
              "      <td>-1.0</td>\n",
              "      <td>3000583116437</td>\n",
              "      <td>4</td>\n",
              "      <td>0</td>\n",
              "      <td>128.0</td>\n",
              "      <td>True</td>\n",
              "    </tr>\n",
              "    <tr>\n",
              "      <th>2</th>\n",
              "      <td>12:07:50</td>\n",
              "      <td>-0.969520</td>\n",
              "      <td>51.455544</td>\n",
              "      <td>477.0</td>\n",
              "      <td>3000582891479</td>\n",
              "      <td>4</td>\n",
              "      <td>1</td>\n",
              "      <td>46.0</td>\n",
              "      <td>False</td>\n",
              "    </tr>\n",
              "    <tr>\n",
              "      <th>3</th>\n",
              "      <td>13:50:20</td>\n",
              "      <td>-1.054671</td>\n",
              "      <td>51.460544</td>\n",
              "      <td>658.0</td>\n",
              "      <td>3000582941169</td>\n",
              "      <td>4</td>\n",
              "      <td>1</td>\n",
              "      <td>62.0</td>\n",
              "      <td>False</td>\n",
              "    </tr>\n",
              "    <tr>\n",
              "      <th>4</th>\n",
              "      <td>21:24:45</td>\n",
              "      <td>-0.967605</td>\n",
              "      <td>51.458236</td>\n",
              "      <td>-1.0</td>\n",
              "      <td>3000583140877</td>\n",
              "      <td>9</td>\n",
              "      <td>0</td>\n",
              "      <td>NaN</td>\n",
              "      <td>True</td>\n",
              "    </tr>\n",
              "  </tbody>\n",
              "</table>\n",
              "</div>"
            ],
            "text/plain": [
              "  order_datetime  origin_longitude  origin_latitude  m_order_eta  \\\n",
              "0       18:08:07         -0.978916        51.456173         60.0   \n",
              "1       20:57:32         -0.950385        51.456843         -1.0   \n",
              "2       12:07:50         -0.969520        51.455544        477.0   \n",
              "3       13:50:20         -1.054671        51.460544        658.0   \n",
              "4       21:24:45         -0.967605        51.458236         -1.0   \n",
              "\n",
              "        order_gk  order_status_key  is_driver_assigned_key  \\\n",
              "0  3000583041974                 4                       1   \n",
              "1  3000583116437                 4                       0   \n",
              "2  3000582891479                 4                       1   \n",
              "3  3000582941169                 4                       1   \n",
              "4  3000583140877                 9                       0   \n",
              "\n",
              "   cancellations_time_in_seconds  eta_missing  \n",
              "0                          198.0        False  \n",
              "1                          128.0         True  \n",
              "2                           46.0        False  \n",
              "3                           62.0        False  \n",
              "4                            NaN         True  "
            ]
          },
          "execution_count": 20,
          "metadata": {},
          "output_type": "execute_result"
        }
      ],
      "source": [
        "df_orders.head()"
      ]
    },
    {
      "cell_type": "code",
      "execution_count": 21,
      "metadata": {
        "colab": {
          "base_uri": "https://localhost:8080/",
          "height": 366
        },
        "id": "z5jmsnokHpCp",
        "outputId": "aa0194f7-8f57-4973-ca45-f8fd8daec8c5"
      },
      "outputs": [
        {
          "data": {
            "text/plain": [
              "order_datetime                      0\n",
              "origin_longitude                    0\n",
              "origin_latitude                     0\n",
              "m_order_eta                         0\n",
              "order_gk                            0\n",
              "order_status_key                    0\n",
              "is_driver_assigned_key              0\n",
              "cancellations_time_in_seconds    3409\n",
              "eta_missing                         0\n",
              "dtype: int64"
            ]
          },
          "execution_count": 21,
          "metadata": {},
          "output_type": "execute_result"
        }
      ],
      "source": [
        "df_orders.isnull().sum()"
      ]
    },
    {
      "cell_type": "code",
      "execution_count": 22,
      "metadata": {
        "colab": {
          "base_uri": "https://localhost:8080/"
        },
        "id": "dFH4ZC5oH1wB",
        "outputId": "4926b97e-bbc3-495a-f297-5cf80cf665a6"
      },
      "outputs": [
        {
          "name": "stdout",
          "output_type": "stream",
          "text": [
            "cancelletion_missing  False  True \n",
            "order rejected by                 \n",
            "4                      7307      0\n",
            "9                         0   3409\n"
          ]
        }
      ],
      "source": [
        "df_orders['cancelletion_missing'] = df_orders['cancellations_time_in_seconds'].isna()\n",
        "\n",
        "# Cross-tab: rows = driver assigned, columns = eta missing\n",
        "crosstab_result = pd.crosstab(\n",
        "    df_orders['order_status_key'],\n",
        "    df_orders['cancelletion_missing'],\n",
        "    rownames=['order rejected by'],\n",
        "    colnames=['cancelletion_missing']\n",
        ")\n",
        "\n",
        "print(crosstab_result)\n"
      ]
    },
    {
      "cell_type": "markdown",
      "metadata": {
        "id": "ba54Gp0GIjau"
      },
      "source": [
        "so the cancellation time is missing when the order was rejected by the system"
      ]
    },
    {
      "cell_type": "code",
      "execution_count": 23,
      "metadata": {
        "id": "6dsbyj8AIX7v"
      },
      "outputs": [],
      "source": [
        "# Fill cancellation time with 0 only for system-rejected orders (status 9)\n",
        "df_orders.loc[df_orders['order_status_key'] == 9, 'cancellations_time_in_seconds'] = 0\n"
      ]
    },
    {
      "cell_type": "code",
      "execution_count": 24,
      "metadata": {
        "colab": {
          "base_uri": "https://localhost:8080/",
          "height": 397
        },
        "id": "ALcjN4c5I-ad",
        "outputId": "3fd0b8d0-5531-461a-e548-750a2d18486a"
      },
      "outputs": [
        {
          "data": {
            "text/plain": [
              "order_datetime                   0\n",
              "origin_longitude                 0\n",
              "origin_latitude                  0\n",
              "m_order_eta                      0\n",
              "order_gk                         0\n",
              "order_status_key                 0\n",
              "is_driver_assigned_key           0\n",
              "cancellations_time_in_seconds    0\n",
              "eta_missing                      0\n",
              "cancelletion_missing             0\n",
              "dtype: int64"
            ]
          },
          "execution_count": 24,
          "metadata": {},
          "output_type": "execute_result"
        }
      ],
      "source": [
        "df_orders.isnull().sum()"
      ]
    },
    {
      "cell_type": "code",
      "execution_count": 25,
      "metadata": {
        "colab": {
          "base_uri": "https://localhost:8080/",
          "height": 226
        },
        "id": "0Mb9N1CUJATO",
        "outputId": "f6e1ce87-5863-44bc-92df-f5d84deae1e9"
      },
      "outputs": [
        {
          "data": {
            "text/html": [
              "<div>\n",
              "<style scoped>\n",
              "    .dataframe tbody tr th:only-of-type {\n",
              "        vertical-align: middle;\n",
              "    }\n",
              "\n",
              "    .dataframe tbody tr th {\n",
              "        vertical-align: top;\n",
              "    }\n",
              "\n",
              "    .dataframe thead th {\n",
              "        text-align: right;\n",
              "    }\n",
              "</style>\n",
              "<table border=\"1\" class=\"dataframe\">\n",
              "  <thead>\n",
              "    <tr style=\"text-align: right;\">\n",
              "      <th></th>\n",
              "      <th>order_datetime</th>\n",
              "      <th>origin_longitude</th>\n",
              "      <th>origin_latitude</th>\n",
              "      <th>m_order_eta</th>\n",
              "      <th>order_gk</th>\n",
              "      <th>order_status_key</th>\n",
              "      <th>is_driver_assigned_key</th>\n",
              "      <th>cancellations_time_in_seconds</th>\n",
              "      <th>eta_missing</th>\n",
              "      <th>cancelletion_missing</th>\n",
              "    </tr>\n",
              "  </thead>\n",
              "  <tbody>\n",
              "    <tr>\n",
              "      <th>0</th>\n",
              "      <td>18:08:07</td>\n",
              "      <td>-0.978916</td>\n",
              "      <td>51.456173</td>\n",
              "      <td>60.0</td>\n",
              "      <td>3000583041974</td>\n",
              "      <td>4</td>\n",
              "      <td>1</td>\n",
              "      <td>198.0</td>\n",
              "      <td>False</td>\n",
              "      <td>False</td>\n",
              "    </tr>\n",
              "    <tr>\n",
              "      <th>1</th>\n",
              "      <td>20:57:32</td>\n",
              "      <td>-0.950385</td>\n",
              "      <td>51.456843</td>\n",
              "      <td>-1.0</td>\n",
              "      <td>3000583116437</td>\n",
              "      <td>4</td>\n",
              "      <td>0</td>\n",
              "      <td>128.0</td>\n",
              "      <td>True</td>\n",
              "      <td>False</td>\n",
              "    </tr>\n",
              "    <tr>\n",
              "      <th>2</th>\n",
              "      <td>12:07:50</td>\n",
              "      <td>-0.969520</td>\n",
              "      <td>51.455544</td>\n",
              "      <td>477.0</td>\n",
              "      <td>3000582891479</td>\n",
              "      <td>4</td>\n",
              "      <td>1</td>\n",
              "      <td>46.0</td>\n",
              "      <td>False</td>\n",
              "      <td>False</td>\n",
              "    </tr>\n",
              "    <tr>\n",
              "      <th>3</th>\n",
              "      <td>13:50:20</td>\n",
              "      <td>-1.054671</td>\n",
              "      <td>51.460544</td>\n",
              "      <td>658.0</td>\n",
              "      <td>3000582941169</td>\n",
              "      <td>4</td>\n",
              "      <td>1</td>\n",
              "      <td>62.0</td>\n",
              "      <td>False</td>\n",
              "      <td>False</td>\n",
              "    </tr>\n",
              "    <tr>\n",
              "      <th>4</th>\n",
              "      <td>21:24:45</td>\n",
              "      <td>-0.967605</td>\n",
              "      <td>51.458236</td>\n",
              "      <td>-1.0</td>\n",
              "      <td>3000583140877</td>\n",
              "      <td>9</td>\n",
              "      <td>0</td>\n",
              "      <td>0.0</td>\n",
              "      <td>True</td>\n",
              "      <td>True</td>\n",
              "    </tr>\n",
              "  </tbody>\n",
              "</table>\n",
              "</div>"
            ],
            "text/plain": [
              "  order_datetime  origin_longitude  origin_latitude  m_order_eta  \\\n",
              "0       18:08:07         -0.978916        51.456173         60.0   \n",
              "1       20:57:32         -0.950385        51.456843         -1.0   \n",
              "2       12:07:50         -0.969520        51.455544        477.0   \n",
              "3       13:50:20         -1.054671        51.460544        658.0   \n",
              "4       21:24:45         -0.967605        51.458236         -1.0   \n",
              "\n",
              "        order_gk  order_status_key  is_driver_assigned_key  \\\n",
              "0  3000583041974                 4                       1   \n",
              "1  3000583116437                 4                       0   \n",
              "2  3000582891479                 4                       1   \n",
              "3  3000582941169                 4                       1   \n",
              "4  3000583140877                 9                       0   \n",
              "\n",
              "   cancellations_time_in_seconds  eta_missing  cancelletion_missing  \n",
              "0                          198.0        False                 False  \n",
              "1                          128.0         True                 False  \n",
              "2                           46.0        False                 False  \n",
              "3                           62.0        False                 False  \n",
              "4                            0.0         True                  True  "
            ]
          },
          "execution_count": 25,
          "metadata": {},
          "output_type": "execute_result"
        }
      ],
      "source": [
        "df_orders.head()"
      ]
    },
    {
      "cell_type": "code",
      "execution_count": 26,
      "metadata": {
        "id": "YZGGig5SJCZf"
      },
      "outputs": [],
      "source": [
        "df_orders.drop(['eta_missing','cancelletion_missing'], axis=1, inplace=True)"
      ]
    },
    {
      "cell_type": "code",
      "execution_count": 27,
      "metadata": {
        "colab": {
          "base_uri": "https://localhost:8080/",
          "height": 206
        },
        "id": "b669O6ZKaVKu",
        "outputId": "96e40ddf-1ea6-4992-8672-a63fc0189daf"
      },
      "outputs": [
        {
          "data": {
            "text/html": [
              "<div>\n",
              "<style scoped>\n",
              "    .dataframe tbody tr th:only-of-type {\n",
              "        vertical-align: middle;\n",
              "    }\n",
              "\n",
              "    .dataframe tbody tr th {\n",
              "        vertical-align: top;\n",
              "    }\n",
              "\n",
              "    .dataframe thead th {\n",
              "        text-align: right;\n",
              "    }\n",
              "</style>\n",
              "<table border=\"1\" class=\"dataframe\">\n",
              "  <thead>\n",
              "    <tr style=\"text-align: right;\">\n",
              "      <th></th>\n",
              "      <th>order_datetime</th>\n",
              "      <th>origin_longitude</th>\n",
              "      <th>origin_latitude</th>\n",
              "      <th>m_order_eta</th>\n",
              "      <th>order_gk</th>\n",
              "      <th>order_status_key</th>\n",
              "      <th>is_driver_assigned_key</th>\n",
              "      <th>cancellations_time_in_seconds</th>\n",
              "    </tr>\n",
              "  </thead>\n",
              "  <tbody>\n",
              "    <tr>\n",
              "      <th>0</th>\n",
              "      <td>18:08:07</td>\n",
              "      <td>-0.978916</td>\n",
              "      <td>51.456173</td>\n",
              "      <td>60.0</td>\n",
              "      <td>3000583041974</td>\n",
              "      <td>4</td>\n",
              "      <td>1</td>\n",
              "      <td>198.0</td>\n",
              "    </tr>\n",
              "    <tr>\n",
              "      <th>1</th>\n",
              "      <td>20:57:32</td>\n",
              "      <td>-0.950385</td>\n",
              "      <td>51.456843</td>\n",
              "      <td>-1.0</td>\n",
              "      <td>3000583116437</td>\n",
              "      <td>4</td>\n",
              "      <td>0</td>\n",
              "      <td>128.0</td>\n",
              "    </tr>\n",
              "    <tr>\n",
              "      <th>2</th>\n",
              "      <td>12:07:50</td>\n",
              "      <td>-0.969520</td>\n",
              "      <td>51.455544</td>\n",
              "      <td>477.0</td>\n",
              "      <td>3000582891479</td>\n",
              "      <td>4</td>\n",
              "      <td>1</td>\n",
              "      <td>46.0</td>\n",
              "    </tr>\n",
              "    <tr>\n",
              "      <th>3</th>\n",
              "      <td>13:50:20</td>\n",
              "      <td>-1.054671</td>\n",
              "      <td>51.460544</td>\n",
              "      <td>658.0</td>\n",
              "      <td>3000582941169</td>\n",
              "      <td>4</td>\n",
              "      <td>1</td>\n",
              "      <td>62.0</td>\n",
              "    </tr>\n",
              "    <tr>\n",
              "      <th>4</th>\n",
              "      <td>21:24:45</td>\n",
              "      <td>-0.967605</td>\n",
              "      <td>51.458236</td>\n",
              "      <td>-1.0</td>\n",
              "      <td>3000583140877</td>\n",
              "      <td>9</td>\n",
              "      <td>0</td>\n",
              "      <td>0.0</td>\n",
              "    </tr>\n",
              "  </tbody>\n",
              "</table>\n",
              "</div>"
            ],
            "text/plain": [
              "  order_datetime  origin_longitude  origin_latitude  m_order_eta  \\\n",
              "0       18:08:07         -0.978916        51.456173         60.0   \n",
              "1       20:57:32         -0.950385        51.456843         -1.0   \n",
              "2       12:07:50         -0.969520        51.455544        477.0   \n",
              "3       13:50:20         -1.054671        51.460544        658.0   \n",
              "4       21:24:45         -0.967605        51.458236         -1.0   \n",
              "\n",
              "        order_gk  order_status_key  is_driver_assigned_key  \\\n",
              "0  3000583041974                 4                       1   \n",
              "1  3000583116437                 4                       0   \n",
              "2  3000582891479                 4                       1   \n",
              "3  3000582941169                 4                       1   \n",
              "4  3000583140877                 9                       0   \n",
              "\n",
              "   cancellations_time_in_seconds  \n",
              "0                          198.0  \n",
              "1                          128.0  \n",
              "2                           46.0  \n",
              "3                           62.0  \n",
              "4                            0.0  "
            ]
          },
          "execution_count": 27,
          "metadata": {},
          "output_type": "execute_result"
        }
      ],
      "source": [
        "df_orders.head()"
      ]
    },
    {
      "cell_type": "code",
      "execution_count": 28,
      "metadata": {
        "colab": {
          "base_uri": "https://localhost:8080/"
        },
        "id": "rt0pmexNbGdn",
        "outputId": "c98effdb-e8d1-4455-d7c9-24d1ac402e2d"
      },
      "outputs": [
        {
          "name": "stderr",
          "output_type": "stream",
          "text": [
            "C:\\Users\\Saikiran\\AppData\\Local\\Temp\\ipykernel_19704\\3611929439.py:2: UserWarning: Could not infer format, so each element will be parsed individually, falling back to `dateutil`. To ensure parsing is consistent and as-expected, please specify a format.\n",
            "  df_orders['order_hour'] = pd.to_datetime(df_orders['order_datetime']).dt.hour\n"
          ]
        }
      ],
      "source": [
        "# Extract hour from datetime\n",
        "df_orders['order_hour'] = pd.to_datetime(df_orders['order_datetime']).dt.hour\n",
        "\n",
        "# Define failure type based on status and driver assignment\n",
        "def classify_failure(row):\n",
        "    if row['order_status_key'] == 9:\n",
        "        return 'System Rejected'\n",
        "    elif row['order_status_key'] == 4:\n",
        "        if row['is_driver_assigned_key'] == 1:\n",
        "            return 'Cancelled After Driver Assigned'\n",
        "        else:\n",
        "            return 'Cancelled Before Driver Assigned'\n",
        "    else:\n",
        "        return 'Other'\n",
        "\n",
        "df_orders['failure_type'] = df_orders.apply(classify_failure, axis=1)\n"
      ]
    },
    {
      "cell_type": "markdown",
      "metadata": {
        "id": "dARAkRlqiGPN"
      },
      "source": [
        " Let's now compare order_status_key and cancellations_time_in_seconds to understand how long it takes for an order to get canceled or rejected, based on the status.\n",
        "\n"
      ]
    },
    {
      "cell_type": "code",
      "execution_count": 31,
      "metadata": {
        "colab": {
          "base_uri": "https://localhost:8080/",
          "height": 694
        },
        "id": "xS4dKtjCfDtN",
        "outputId": "3d490f6e-2ae3-4e71-b39a-78b2a685f899"
      },
      "outputs": [
        {
          "name": "stderr",
          "output_type": "stream",
          "text": [
            "C:\\Users\\Saikiran\\AppData\\Local\\Temp\\ipykernel_19704\\2229189612.py:10: FutureWarning: \n",
            "\n",
            "Passing `palette` without assigning `hue` is deprecated and will be removed in v0.14.0. Assign the `x` variable to `hue` and set `legend=False` for the same effect.\n",
            "\n",
            "  sns.boxplot(data=subset, x='status_label', y='cancellations_time_in_seconds', palette='Set2')\n"
          ]
        },
        {
          "data": {
            "image/png": "[encoded data removed]",
            "text/plain": [
              "<Figure size 1000x600 with 1 Axes>"
            ]
          },
          "metadata": {},
          "output_type": "display_data"
        }
      ],
      "source": [
        "subset = df_orders[df_orders['order_status_key'].isin([4, 9])]\n",
        "status_map = {\n",
        "    4: 'Client Cancelled',\n",
        "    9: 'System Rejected'\n",
        "}\n",
        "\n",
        "subset['status_label'] = subset['order_status_key'].map(status_map)\n",
        "\n",
        "plt.figure(figsize=(10, 6))\n",
        "sns.boxplot(data=subset, x='status_label', y='cancellations_time_in_seconds', palette='Set2')\n",
        "plt.title(\"Cancellation Time by Order Status\")\n",
        "plt.xlabel(\"Order Status\")\n",
        "plt.ylabel(\"Cancellation Time (seconds)\")\n",
        "plt.tight_layout()\n",
        "plt.show()\n"
      ]
    },
    {
      "cell_type": "markdown",
      "metadata": {
        "id": "jgviGSEcihrw"
      },
      "source": [
        " mean cancellation time per status"
      ]
    },
    {
      "cell_type": "code",
      "execution_count": 32,
      "metadata": {
        "colab": {
          "base_uri": "https://localhost:8080/"
        },
        "id": "DROxZUUciTAi",
        "outputId": "15d73e63-7741-40ac-9d8c-d01a0f9f7e58"
      },
      "outputs": [
        {
          "name": "stdout",
          "output_type": "stream",
          "text": [
            "status_label\n",
            "Client Cancelled    157.89\n",
            "System Rejected       0.00\n",
            "Name: cancellations_time_in_seconds, dtype: float64\n"
          ]
        }
      ],
      "source": [
        "avg_cancel_time = subset.groupby('status_label')['cancellations_time_in_seconds'].mean().round(2)\n",
        "print(avg_cancel_time)\n"
      ]
    },
    {
      "cell_type": "markdown",
      "metadata": {
        "id": "uns0WSR7v37k"
      },
      "source": [
        "Plot the average time to cancellation with and without driver, by the hour. If there are any outliers in the data, it would be better to remove them. Can we draw any conclusions from this plot?\n",
        "\n",
        "\n"
      ]
    },
    {
      "cell_type": "code",
      "execution_count": 33,
      "metadata": {
        "colab": {
          "base_uri": "https://localhost:8080/",
          "height": 487
        },
        "id": "lomx0WLBil39",
        "outputId": "54d4d7f3-52c9-4e97-dd32-d756faac307a"
      },
      "outputs": [
        {
          "data": {
            "image/png": "[encoded data removed]",
            "text/plain": [
              "<Figure size 640x480 with 1 Axes>"
            ]
          },
          "metadata": {},
          "output_type": "display_data"
        }
      ],
      "source": [
        "\n",
        "avg_cancel_time.plot(kind='bar', color=['salmon', 'skyblue'])\n",
        "plt.title(\"Average Cancellation Time by Order Status\")\n",
        "plt.xlabel(\"Order Status\")\n",
        "plt.ylabel(\"Avg Cancellation Time (seconds)\")\n",
        "plt.xticks(rotation=0)\n",
        "plt.tight_layout()\n",
        "plt.show()"
      ]
    },
    {
      "cell_type": "markdown",
      "metadata": {
        "id": "tFmNImpri5Wf"
      },
      "source": [
        "It looks like system is rejecting the client requests when there are no drivers available"
      ]
    },
    {
      "cell_type": "markdown",
      "metadata": {
        "id": "6Z2C84gLkcDF"
      },
      "source": [
        "Goal: See if users cancel faster when no driver is assigned, and how this changes through the day.\n",
        "\n",
        "✅ Q4: Does ETA impact failure? Plot average ETA (Estimated Time of Arrival) by hour."
      ]
    },
    {
      "cell_type": "code",
      "execution_count": 34,
      "metadata": {
        "colab": {
          "base_uri": "https://localhost:8080/",
          "height": 382
        },
        "id": "_RmWdV8FisPM",
        "outputId": "617d66f9-b12e-47ed-ec35-c12ba5842b22"
      },
      "outputs": [
        {
          "data": {
            "text/html": [
              "<div>\n",
              "<style scoped>\n",
              "    .dataframe tbody tr th:only-of-type {\n",
              "        vertical-align: middle;\n",
              "    }\n",
              "\n",
              "    .dataframe tbody tr th {\n",
              "        vertical-align: top;\n",
              "    }\n",
              "\n",
              "    .dataframe thead th {\n",
              "        text-align: right;\n",
              "    }\n",
              "</style>\n",
              "<table border=\"1\" class=\"dataframe\">\n",
              "  <thead>\n",
              "    <tr style=\"text-align: right;\">\n",
              "      <th></th>\n",
              "      <th>order_datetime</th>\n",
              "      <th>origin_longitude</th>\n",
              "      <th>origin_latitude</th>\n",
              "      <th>m_order_eta</th>\n",
              "      <th>order_gk</th>\n",
              "      <th>order_status_key</th>\n",
              "      <th>is_driver_assigned_key</th>\n",
              "      <th>cancellations_time_in_seconds</th>\n",
              "      <th>order_hour</th>\n",
              "      <th>failure_type</th>\n",
              "    </tr>\n",
              "  </thead>\n",
              "  <tbody>\n",
              "    <tr>\n",
              "      <th>0</th>\n",
              "      <td>18:08:07</td>\n",
              "      <td>-0.978916</td>\n",
              "      <td>51.456173</td>\n",
              "      <td>60.0</td>\n",
              "      <td>3000583041974</td>\n",
              "      <td>4</td>\n",
              "      <td>1</td>\n",
              "      <td>198.0</td>\n",
              "      <td>18</td>\n",
              "      <td>Cancelled After Driver Assigned</td>\n",
              "    </tr>\n",
              "    <tr>\n",
              "      <th>1</th>\n",
              "      <td>20:57:32</td>\n",
              "      <td>-0.950385</td>\n",
              "      <td>51.456843</td>\n",
              "      <td>-1.0</td>\n",
              "      <td>3000583116437</td>\n",
              "      <td>4</td>\n",
              "      <td>0</td>\n",
              "      <td>128.0</td>\n",
              "      <td>20</td>\n",
              "      <td>Cancelled Before Driver Assigned</td>\n",
              "    </tr>\n",
              "    <tr>\n",
              "      <th>2</th>\n",
              "      <td>12:07:50</td>\n",
              "      <td>-0.969520</td>\n",
              "      <td>51.455544</td>\n",
              "      <td>477.0</td>\n",
              "      <td>3000582891479</td>\n",
              "      <td>4</td>\n",
              "      <td>1</td>\n",
              "      <td>46.0</td>\n",
              "      <td>12</td>\n",
              "      <td>Cancelled After Driver Assigned</td>\n",
              "    </tr>\n",
              "    <tr>\n",
              "      <th>3</th>\n",
              "      <td>13:50:20</td>\n",
              "      <td>-1.054671</td>\n",
              "      <td>51.460544</td>\n",
              "      <td>658.0</td>\n",
              "      <td>3000582941169</td>\n",
              "      <td>4</td>\n",
              "      <td>1</td>\n",
              "      <td>62.0</td>\n",
              "      <td>13</td>\n",
              "      <td>Cancelled After Driver Assigned</td>\n",
              "    </tr>\n",
              "    <tr>\n",
              "      <th>4</th>\n",
              "      <td>21:24:45</td>\n",
              "      <td>-0.967605</td>\n",
              "      <td>51.458236</td>\n",
              "      <td>-1.0</td>\n",
              "      <td>3000583140877</td>\n",
              "      <td>9</td>\n",
              "      <td>0</td>\n",
              "      <td>0.0</td>\n",
              "      <td>21</td>\n",
              "      <td>System Rejected</td>\n",
              "    </tr>\n",
              "  </tbody>\n",
              "</table>\n",
              "</div>"
            ],
            "text/plain": [
              "  order_datetime  origin_longitude  origin_latitude  m_order_eta  \\\n",
              "0       18:08:07         -0.978916        51.456173         60.0   \n",
              "1       20:57:32         -0.950385        51.456843         -1.0   \n",
              "2       12:07:50         -0.969520        51.455544        477.0   \n",
              "3       13:50:20         -1.054671        51.460544        658.0   \n",
              "4       21:24:45         -0.967605        51.458236         -1.0   \n",
              "\n",
              "        order_gk  order_status_key  is_driver_assigned_key  \\\n",
              "0  3000583041974                 4                       1   \n",
              "1  3000583116437                 4                       0   \n",
              "2  3000582891479                 4                       1   \n",
              "3  3000582941169                 4                       1   \n",
              "4  3000583140877                 9                       0   \n",
              "\n",
              "   cancellations_time_in_seconds  order_hour                      failure_type  \n",
              "0                          198.0          18   Cancelled After Driver Assigned  \n",
              "1                          128.0          20  Cancelled Before Driver Assigned  \n",
              "2                           46.0          12   Cancelled After Driver Assigned  \n",
              "3                           62.0          13   Cancelled After Driver Assigned  \n",
              "4                            0.0          21                   System Rejected  "
            ]
          },
          "execution_count": 34,
          "metadata": {},
          "output_type": "execute_result"
        }
      ],
      "source": [
        "df_orders.head()"
      ]
    },
    {
      "cell_type": "code",
      "execution_count": 35,
      "metadata": {
        "colab": {
          "base_uri": "https://localhost:8080/",
          "height": 607
        },
        "id": "CAg8onM7kwhy",
        "outputId": "bd77546b-d415-4878-b12d-c9a156277d19"
      },
      "outputs": [
        {
          "data": {
            "image/png": "[encoded data removed]",
            "text/plain": [
              "<Figure size 1200x600 with 1 Axes>"
            ]
          },
          "metadata": {},
          "output_type": "display_data"
        }
      ],
      "source": [
        "\n",
        "plt.figure(figsize=(12, 6))\n",
        "bins = np.arange(0, 810, 30)  # 30s bins up to 600s\n",
        "\n",
        "sns.histplot(\n",
        "    data=failed_orders,\n",
        "    x='m_order_eta',\n",
        "    hue='failure_type',\n",
        "    multiple='stack',\n",
        "    bins=bins,\n",
        "    palette='Set2'\n",
        ")\n",
        "plt.title(\"Failed Orders by ETA (0–600 seconds)\")\n",
        "plt.xlabel(\"ETA (in seconds)\")\n",
        "plt.ylabel(\"Number of Failed Orders\")\n",
        "plt.tight_layout()\n",
        "plt.show()\n"
      ]
    },
    {
      "cell_type": "markdown",
      "metadata": {
        "id": "gursCs4Ml0Vu"
      },
      "source": [
        "when ever the eta estimated time of arrival is large the order is being cancelled after driver is assigned"
      ]
    },
    {
      "cell_type": "markdown",
      "metadata": {
        "id": "zCTcrYa8u9SG"
      },
      "source": [
        "Plot the average time to cancellation with and without driver, by the hour. If there are any outliers in the data, it would be better to remove them. Can we draw any conclusions from this plot?\n",
        "\n",
        "\n",
        "*   List item\n",
        "*   List item\n",
        "\n"
      ]
    },
    {
      "cell_type": "code",
      "execution_count": 36,
      "metadata": {
        "colab": {
          "base_uri": "https://localhost:8080/",
          "height": 382
        },
        "id": "AsV0GJ28u8O-",
        "outputId": "abfea244-af76-4c88-a879-2dbf6dd2e759"
      },
      "outputs": [
        {
          "data": {
            "text/html": [
              "<div>\n",
              "<style scoped>\n",
              "    .dataframe tbody tr th:only-of-type {\n",
              "        vertical-align: middle;\n",
              "    }\n",
              "\n",
              "    .dataframe tbody tr th {\n",
              "        vertical-align: top;\n",
              "    }\n",
              "\n",
              "    .dataframe thead th {\n",
              "        text-align: right;\n",
              "    }\n",
              "</style>\n",
              "<table border=\"1\" class=\"dataframe\">\n",
              "  <thead>\n",
              "    <tr style=\"text-align: right;\">\n",
              "      <th></th>\n",
              "      <th>order_datetime</th>\n",
              "      <th>origin_longitude</th>\n",
              "      <th>origin_latitude</th>\n",
              "      <th>m_order_eta</th>\n",
              "      <th>order_gk</th>\n",
              "      <th>order_status_key</th>\n",
              "      <th>is_driver_assigned_key</th>\n",
              "      <th>cancellations_time_in_seconds</th>\n",
              "      <th>order_hour</th>\n",
              "      <th>failure_type</th>\n",
              "    </tr>\n",
              "  </thead>\n",
              "  <tbody>\n",
              "    <tr>\n",
              "      <th>0</th>\n",
              "      <td>18:08:07</td>\n",
              "      <td>-0.978916</td>\n",
              "      <td>51.456173</td>\n",
              "      <td>60.0</td>\n",
              "      <td>3000583041974</td>\n",
              "      <td>4</td>\n",
              "      <td>1</td>\n",
              "      <td>198.0</td>\n",
              "      <td>18</td>\n",
              "      <td>Cancelled After Driver Assigned</td>\n",
              "    </tr>\n",
              "    <tr>\n",
              "      <th>1</th>\n",
              "      <td>20:57:32</td>\n",
              "      <td>-0.950385</td>\n",
              "      <td>51.456843</td>\n",
              "      <td>-1.0</td>\n",
              "      <td>3000583116437</td>\n",
              "      <td>4</td>\n",
              "      <td>0</td>\n",
              "      <td>128.0</td>\n",
              "      <td>20</td>\n",
              "      <td>Cancelled Before Driver Assigned</td>\n",
              "    </tr>\n",
              "    <tr>\n",
              "      <th>2</th>\n",
              "      <td>12:07:50</td>\n",
              "      <td>-0.969520</td>\n",
              "      <td>51.455544</td>\n",
              "      <td>477.0</td>\n",
              "      <td>3000582891479</td>\n",
              "      <td>4</td>\n",
              "      <td>1</td>\n",
              "      <td>46.0</td>\n",
              "      <td>12</td>\n",
              "      <td>Cancelled After Driver Assigned</td>\n",
              "    </tr>\n",
              "    <tr>\n",
              "      <th>3</th>\n",
              "      <td>13:50:20</td>\n",
              "      <td>-1.054671</td>\n",
              "      <td>51.460544</td>\n",
              "      <td>658.0</td>\n",
              "      <td>3000582941169</td>\n",
              "      <td>4</td>\n",
              "      <td>1</td>\n",
              "      <td>62.0</td>\n",
              "      <td>13</td>\n",
              "      <td>Cancelled After Driver Assigned</td>\n",
              "    </tr>\n",
              "    <tr>\n",
              "      <th>4</th>\n",
              "      <td>21:24:45</td>\n",
              "      <td>-0.967605</td>\n",
              "      <td>51.458236</td>\n",
              "      <td>-1.0</td>\n",
              "      <td>3000583140877</td>\n",
              "      <td>9</td>\n",
              "      <td>0</td>\n",
              "      <td>0.0</td>\n",
              "      <td>21</td>\n",
              "      <td>System Rejected</td>\n",
              "    </tr>\n",
              "  </tbody>\n",
              "</table>\n",
              "</div>"
            ],
            "text/plain": [
              "  order_datetime  origin_longitude  origin_latitude  m_order_eta  \\\n",
              "0       18:08:07         -0.978916        51.456173         60.0   \n",
              "1       20:57:32         -0.950385        51.456843         -1.0   \n",
              "2       12:07:50         -0.969520        51.455544        477.0   \n",
              "3       13:50:20         -1.054671        51.460544        658.0   \n",
              "4       21:24:45         -0.967605        51.458236         -1.0   \n",
              "\n",
              "        order_gk  order_status_key  is_driver_assigned_key  \\\n",
              "0  3000583041974                 4                       1   \n",
              "1  3000583116437                 4                       0   \n",
              "2  3000582891479                 4                       1   \n",
              "3  3000582941169                 4                       1   \n",
              "4  3000583140877                 9                       0   \n",
              "\n",
              "   cancellations_time_in_seconds  order_hour                      failure_type  \n",
              "0                          198.0          18   Cancelled After Driver Assigned  \n",
              "1                          128.0          20  Cancelled Before Driver Assigned  \n",
              "2                           46.0          12   Cancelled After Driver Assigned  \n",
              "3                           62.0          13   Cancelled After Driver Assigned  \n",
              "4                            0.0          21                   System Rejected  "
            ]
          },
          "execution_count": 36,
          "metadata": {},
          "output_type": "execute_result"
        }
      ],
      "source": [
        "df_orders.head()"
      ]
    },
    {
      "cell_type": "markdown",
      "metadata": {
        "id": "a95RdyLCv_OG"
      },
      "source": [
        "Plot the distribution of average ETA by hours. How can this plot be explained?"
      ]
    },
    {
      "cell_type": "markdown",
      "metadata": {},
      "source": [
        "Q1: What are the reasons for failure?\n",
        "Build a distribution plot of failed orders categorized as:\n",
        "\n",
        "Cancelled before driver assigned\n",
        "\n",
        "Cancelled after driver assigned\n",
        "\n",
        "Rejected by the system\n",
        "\n",
        "🎯 Goal: See which failure type is most common.\n"
      ]
    },
    {
      "cell_type": "code",
      "execution_count": 96,
      "metadata": {},
      "outputs": [
        {
          "data": {
            "text/plain": [
              "Text(0.5, 1.0, 'Distribution of Failed Orders by Failure Type')"
            ]
          },
          "execution_count": 96,
          "metadata": {},
          "output_type": "execute_result"
        },
        {
          "data": {
            "image/png": "[encoded data removed]",
            "text/plain": [
              "<Figure size 640x480 with 1 Axes>"
            ]
          },
          "metadata": {},
          "output_type": "display_data"
        }
      ],
      "source": [
        "failed_orders['failure_type'].value_counts().plot(kind='bar', color='skyblue')\n",
        "plt.savefig('failed_orders_by_type.png', dpi=300, bbox_inches='tight')\n",
        "plt.xlabel(\"Failure Type\")\n",
        "plt.title(\"Distribution of Failed Orders by Failure Type\")"
      ]
    },
    {
      "cell_type": "markdown",
      "metadata": {},
      "source": [
        "cancellation before driver assigned is most common failure type"
      ]
    },
    {
      "cell_type": "markdown",
      "metadata": {},
      "source": [
        "Q2: When do failures happen the most?\n",
        "Plot failed orders by hour of day (0 to 23)\n",
        "\n",
        "See if any failure type spikes at specific hours (e.g. morning rush?)\n",
        "\n",
        "🎯 Goal: Identify high-risk time windows for failures."
      ]
    },
    {
      "cell_type": "code",
      "execution_count": 53,
      "metadata": {},
      "outputs": [
        {
          "data": {
            "image/png": "[encoded data removed]",
            "text/plain": [
              "<Figure size 1200x600 with 1 Axes>"
            ]
          },
          "metadata": {},
          "output_type": "display_data"
        }
      ],
      "source": [
        "failed_orders = df_orders[df_orders['failure_type'] != 'Other']\n",
        "plt.figure(figsize=(12, 6))\n",
        "sns.histplot(\n",
        "    data=failed_orders,\n",
        "    x='order_hour',\n",
        "    hue='failure_type',\n",
        "    multiple='stack',\n",
        "    bins=24,\n",
        "    palette='Set2'\n",
        ")\n",
        "plt.title(\"Failed Orders by Hour of Day\")\n",
        "plt.xlabel(\"Hour of Day (0–23)\")\n",
        "plt.ylabel(\"Number of Failed Orders\")\n",
        "plt.tight_layout()\n",
        "plt.savefig('failed_orders_by_hour.png')\n",
        "plt.show()\n"
      ]
    },
    {
      "cell_type": "markdown",
      "metadata": {},
      "source": [
        "Many order are cancelled in 0-4 hours, which is early morning hour and later 20th hour.\n",
        "8 th hour which is a morning rush hour indicated all the drivers were either already assigned or unavailability of drivers.\n"
      ]
    },
    {
      "cell_type": "markdown",
      "metadata": {},
      "source": [
        " Q3: How long do cancellations take, with and without driver?\n",
        "Compare average time to cancellation:\n",
        "\n",
        "When driver was assigned vs not\n",
        "\n",
        "By hour of day\n",
        "\n",
        "🎯 Goal: See if users cancel faster when no driver is assigned, and how this changes through the day.\n"
      ]
    },
    {
      "cell_type": "code",
      "execution_count": 56,
      "metadata": {},
      "outputs": [
        {
          "data": {
            "text/plain": [
              "Text(0.5, 1.0, 'Average Cancellation Time by Hour of Day')"
            ]
          },
          "execution_count": 56,
          "metadata": {},
          "output_type": "execute_result"
        },
        {
          "data": {
            "image/png": "[encoded data removed]",
            "text/plain": [
              "<Figure size 640x480 with 1 Axes>"
            ]
          },
          "metadata": {},
          "output_type": "display_data"
        }
      ],
      "source": [
        "avg_cancel_time_by_hour = failed_orders.groupby('order_hour')['cancellations_time_in_seconds'].mean().round(2)\n",
        "avg_cancel_time_by_hour.plot(kind='bar', color='skyblue')\n",
        "plt.title(\"Average Cancellation Time by Hour of Day\")  "
      ]
    },
    {
      "cell_type": "code",
      "execution_count": 59,
      "metadata": {},
      "outputs": [
        {
          "data": {
            "text/html": [
              "<div>\n",
              "<style scoped>\n",
              "    .dataframe tbody tr th:only-of-type {\n",
              "        vertical-align: middle;\n",
              "    }\n",
              "\n",
              "    .dataframe tbody tr th {\n",
              "        vertical-align: top;\n",
              "    }\n",
              "\n",
              "    .dataframe thead th {\n",
              "        text-align: right;\n",
              "    }\n",
              "</style>\n",
              "<table border=\"1\" class=\"dataframe\">\n",
              "  <thead>\n",
              "    <tr style=\"text-align: right;\">\n",
              "      <th></th>\n",
              "      <th>order_datetime</th>\n",
              "      <th>origin_longitude</th>\n",
              "      <th>origin_latitude</th>\n",
              "      <th>m_order_eta</th>\n",
              "      <th>order_gk</th>\n",
              "      <th>order_status_key</th>\n",
              "      <th>is_driver_assigned_key</th>\n",
              "      <th>cancellations_time_in_seconds</th>\n",
              "      <th>order_hour</th>\n",
              "      <th>failure_type</th>\n",
              "    </tr>\n",
              "  </thead>\n",
              "  <tbody>\n",
              "    <tr>\n",
              "      <th>0</th>\n",
              "      <td>18:08:07</td>\n",
              "      <td>-0.978916</td>\n",
              "      <td>51.456173</td>\n",
              "      <td>60.0</td>\n",
              "      <td>3000583041974</td>\n",
              "      <td>4</td>\n",
              "      <td>1</td>\n",
              "      <td>198.0</td>\n",
              "      <td>18</td>\n",
              "      <td>Cancelled After Driver Assigned</td>\n",
              "    </tr>\n",
              "    <tr>\n",
              "      <th>1</th>\n",
              "      <td>20:57:32</td>\n",
              "      <td>-0.950385</td>\n",
              "      <td>51.456843</td>\n",
              "      <td>-1.0</td>\n",
              "      <td>3000583116437</td>\n",
              "      <td>4</td>\n",
              "      <td>0</td>\n",
              "      <td>128.0</td>\n",
              "      <td>20</td>\n",
              "      <td>Cancelled Before Driver Assigned</td>\n",
              "    </tr>\n",
              "    <tr>\n",
              "      <th>2</th>\n",
              "      <td>12:07:50</td>\n",
              "      <td>-0.969520</td>\n",
              "      <td>51.455544</td>\n",
              "      <td>477.0</td>\n",
              "      <td>3000582891479</td>\n",
              "      <td>4</td>\n",
              "      <td>1</td>\n",
              "      <td>46.0</td>\n",
              "      <td>12</td>\n",
              "      <td>Cancelled After Driver Assigned</td>\n",
              "    </tr>\n",
              "    <tr>\n",
              "      <th>3</th>\n",
              "      <td>13:50:20</td>\n",
              "      <td>-1.054671</td>\n",
              "      <td>51.460544</td>\n",
              "      <td>658.0</td>\n",
              "      <td>3000582941169</td>\n",
              "      <td>4</td>\n",
              "      <td>1</td>\n",
              "      <td>62.0</td>\n",
              "      <td>13</td>\n",
              "      <td>Cancelled After Driver Assigned</td>\n",
              "    </tr>\n",
              "    <tr>\n",
              "      <th>4</th>\n",
              "      <td>21:24:45</td>\n",
              "      <td>-0.967605</td>\n",
              "      <td>51.458236</td>\n",
              "      <td>-1.0</td>\n",
              "      <td>3000583140877</td>\n",
              "      <td>9</td>\n",
              "      <td>0</td>\n",
              "      <td>0.0</td>\n",
              "      <td>21</td>\n",
              "      <td>System Rejected</td>\n",
              "    </tr>\n",
              "  </tbody>\n",
              "</table>\n",
              "</div>"
            ],
            "text/plain": [
              "  order_datetime  origin_longitude  origin_latitude  m_order_eta  \\\n",
              "0       18:08:07         -0.978916        51.456173         60.0   \n",
              "1       20:57:32         -0.950385        51.456843         -1.0   \n",
              "2       12:07:50         -0.969520        51.455544        477.0   \n",
              "3       13:50:20         -1.054671        51.460544        658.0   \n",
              "4       21:24:45         -0.967605        51.458236         -1.0   \n",
              "\n",
              "        order_gk  order_status_key  is_driver_assigned_key  \\\n",
              "0  3000583041974                 4                       1   \n",
              "1  3000583116437                 4                       0   \n",
              "2  3000582891479                 4                       1   \n",
              "3  3000582941169                 4                       1   \n",
              "4  3000583140877                 9                       0   \n",
              "\n",
              "   cancellations_time_in_seconds  order_hour                      failure_type  \n",
              "0                          198.0          18   Cancelled After Driver Assigned  \n",
              "1                          128.0          20  Cancelled Before Driver Assigned  \n",
              "2                           46.0          12   Cancelled After Driver Assigned  \n",
              "3                           62.0          13   Cancelled After Driver Assigned  \n",
              "4                            0.0          21                   System Rejected  "
            ]
          },
          "execution_count": 59,
          "metadata": {},
          "output_type": "execute_result"
        }
      ],
      "source": [
        "df_orders.head()"
      ]
    },
    {
      "cell_type": "code",
      "execution_count": 64,
      "metadata": {},
      "outputs": [
        {
          "data": {
            "image/png": "[encoded data removed]",
            "text/plain": [
              "<Figure size 1400x600 with 1 Axes>"
            ]
          },
          "metadata": {},
          "output_type": "display_data"
        }
      ],
      "source": [
        "# Group by hour and failure_type\n",
        "driver_assigned_map = {\n",
        "    0: 'Not Assigned',\n",
        "    1: 'Assigned'\n",
        "}\n",
        "avg_cancel_time = (\n",
        "    failed_orders.groupby(['order_hour', 'is_driver_assigned_key'])['cancellations_time_in_seconds']\n",
        "    .mean()\n",
        "    .reset_index()\n",
        ")\n",
        "avg_cancel_time['is_driver_assigned_key'] = avg_cancel_time['is_driver_assigned_key'].map(driver_assigned_map)\n",
        "\n",
        "# Plot with hue\n",
        "plt.figure(figsize=(14, 6))\n",
        "sns.barplot(\n",
        "    data=avg_cancel_time,\n",
        "    x='order_hour',\n",
        "    y='cancellations_time_in_seconds',\n",
        "    hue='is_driver_assigned_key',\n",
        "    palette='Set2'\n",
        ")\n",
        "plt.title(\"Average Cancellation Time by Hour of Day\")\n",
        "plt.xlabel(\"Hour of Day\")\n",
        "plt.ylabel(\"Avg Cancellation Time (seconds)\")\n",
        "plt.tight_layout()\n",
        "plt.savefig('avg_cancel_time_by_hour.png')\n",
        "plt.show()\n"
      ]
    },
    {
      "cell_type": "markdown",
      "metadata": {},
      "source": [
        "User cancel faster when driver is not assigned"
      ]
    },
    {
      "cell_type": "code",
      "execution_count": 65,
      "metadata": {
        "colab": {
          "base_uri": "https://localhost:8080/"
        },
        "id": "OmCCNLLSvCEt",
        "outputId": "a8e09b7e-332b-4f4c-bfa7-aead838233b9"
      },
      "outputs": [],
      "source": [
        "avg_eta = subset.groupby('order_hour')['m_order_eta'].mean().round(2)\n"
      ]
    },
    {
      "cell_type": "code",
      "execution_count": 46,
      "metadata": {
        "colab": {
          "base_uri": "https://localhost:8080/",
          "height": 470
        },
        "id": "q9kXlniCyAmw",
        "outputId": "7262961f-8710-4490-8e9a-af94e515ec12"
      },
      "outputs": [
        {
          "data": {
            "image/png": "[encoded data removed]",
            "text/plain": [
              "<Figure size 640x480 with 1 Axes>"
            ]
          },
          "metadata": {},
          "output_type": "display_data"
        }
      ],
      "source": [
        "avg_eta.plot(kind='bar')\n",
        "plt.title(\"Average ETA by Hour of Day\")\n",
        "plt.xlabel(\"Hour of Day\")   \n",
        "plt.ylabel(\"Average ETA\")\n",
        "plt.tight_layout()\n",
        "plt.savefig('avg_eta_by_hour.png')\n",
        "plt.show()"
      ]
    },
    {
      "cell_type": "markdown",
      "metadata": {
        "id": "Y9gg40Hly7uO"
      },
      "source": [
        "There is higher eta between 7-10 likely morning rush\n",
        "in mid day hours there is average number of orders are observered\n",
        "Less eta after 20 till 4"
      ]
    },
    {
      "cell_type": "markdown",
      "metadata": {
        "id": "t7ecLFXoyG3q"
      },
      "source": [
        "the the average eta has been seen increased between hours 7-10 hours due to morning rush\n",
        "it gradually decreases after 16th hour "
      ]
    },
    {
      "cell_type": "markdown",
      "metadata": {},
      "source": [
        "Hours with high ETA (e.g., 7–11 AM) often correlate with higher cancellations, indicating operational strain.\n",
        "\n",
        "Evening spike (8–9 PM) in failed orders despite lower ETA could point to demand–supply mismatch or driver unavailability.\n",
        "\n",
        "Midnight spike (0h) in failures with relatively low ETA is unusual — possibly due to platform/system constraints or scheduled orders failing"
      ]
    },
    {
      "cell_type": "markdown",
      "metadata": {},
      "source": [
        "BONUS: Where do most failures happen?\n",
        "Use GPS data with H3 (hexagons) and Folium (maps) to:\n",
        "\n",
        "Count how many geographic hexes contain 80% of all orders\n",
        "\n",
        "Visualize them colored by number of failures\n",
        "\n",
        "🎯 Goal: Spot problem areas on the map to optimize driver coverage."
      ]
    },
    {
      "cell_type": "code",
      "execution_count": 72,
      "metadata": {},
      "outputs": [
        {
          "data": {
            "text/html": [
              "<div>\n",
              "<style scoped>\n",
              "    .dataframe tbody tr th:only-of-type {\n",
              "        vertical-align: middle;\n",
              "    }\n",
              "\n",
              "    .dataframe tbody tr th {\n",
              "        vertical-align: top;\n",
              "    }\n",
              "\n",
              "    .dataframe thead th {\n",
              "        text-align: right;\n",
              "    }\n",
              "</style>\n",
              "<table border=\"1\" class=\"dataframe\">\n",
              "  <thead>\n",
              "    <tr style=\"text-align: right;\">\n",
              "      <th></th>\n",
              "      <th>order_datetime</th>\n",
              "      <th>origin_longitude</th>\n",
              "      <th>origin_latitude</th>\n",
              "      <th>m_order_eta</th>\n",
              "      <th>order_gk</th>\n",
              "      <th>order_status_key</th>\n",
              "      <th>is_driver_assigned_key</th>\n",
              "      <th>cancellations_time_in_seconds</th>\n",
              "      <th>order_hour</th>\n",
              "      <th>failure_type</th>\n",
              "    </tr>\n",
              "  </thead>\n",
              "  <tbody>\n",
              "    <tr>\n",
              "      <th>0</th>\n",
              "      <td>18:08:07</td>\n",
              "      <td>-0.978916</td>\n",
              "      <td>51.456173</td>\n",
              "      <td>60.0</td>\n",
              "      <td>3000583041974</td>\n",
              "      <td>4</td>\n",
              "      <td>1</td>\n",
              "      <td>198.0</td>\n",
              "      <td>18</td>\n",
              "      <td>Cancelled After Driver Assigned</td>\n",
              "    </tr>\n",
              "    <tr>\n",
              "      <th>1</th>\n",
              "      <td>20:57:32</td>\n",
              "      <td>-0.950385</td>\n",
              "      <td>51.456843</td>\n",
              "      <td>-1.0</td>\n",
              "      <td>3000583116437</td>\n",
              "      <td>4</td>\n",
              "      <td>0</td>\n",
              "      <td>128.0</td>\n",
              "      <td>20</td>\n",
              "      <td>Cancelled Before Driver Assigned</td>\n",
              "    </tr>\n",
              "    <tr>\n",
              "      <th>2</th>\n",
              "      <td>12:07:50</td>\n",
              "      <td>-0.969520</td>\n",
              "      <td>51.455544</td>\n",
              "      <td>477.0</td>\n",
              "      <td>3000582891479</td>\n",
              "      <td>4</td>\n",
              "      <td>1</td>\n",
              "      <td>46.0</td>\n",
              "      <td>12</td>\n",
              "      <td>Cancelled After Driver Assigned</td>\n",
              "    </tr>\n",
              "    <tr>\n",
              "      <th>3</th>\n",
              "      <td>13:50:20</td>\n",
              "      <td>-1.054671</td>\n",
              "      <td>51.460544</td>\n",
              "      <td>658.0</td>\n",
              "      <td>3000582941169</td>\n",
              "      <td>4</td>\n",
              "      <td>1</td>\n",
              "      <td>62.0</td>\n",
              "      <td>13</td>\n",
              "      <td>Cancelled After Driver Assigned</td>\n",
              "    </tr>\n",
              "    <tr>\n",
              "      <th>4</th>\n",
              "      <td>21:24:45</td>\n",
              "      <td>-0.967605</td>\n",
              "      <td>51.458236</td>\n",
              "      <td>-1.0</td>\n",
              "      <td>3000583140877</td>\n",
              "      <td>9</td>\n",
              "      <td>0</td>\n",
              "      <td>0.0</td>\n",
              "      <td>21</td>\n",
              "      <td>System Rejected</td>\n",
              "    </tr>\n",
              "  </tbody>\n",
              "</table>\n",
              "</div>"
            ],
            "text/plain": [
              "  order_datetime  origin_longitude  origin_latitude  m_order_eta  \\\n",
              "0       18:08:07         -0.978916        51.456173         60.0   \n",
              "1       20:57:32         -0.950385        51.456843         -1.0   \n",
              "2       12:07:50         -0.969520        51.455544        477.0   \n",
              "3       13:50:20         -1.054671        51.460544        658.0   \n",
              "4       21:24:45         -0.967605        51.458236         -1.0   \n",
              "\n",
              "        order_gk  order_status_key  is_driver_assigned_key  \\\n",
              "0  3000583041974                 4                       1   \n",
              "1  3000583116437                 4                       0   \n",
              "2  3000582891479                 4                       1   \n",
              "3  3000582941169                 4                       1   \n",
              "4  3000583140877                 9                       0   \n",
              "\n",
              "   cancellations_time_in_seconds  order_hour                      failure_type  \n",
              "0                          198.0          18   Cancelled After Driver Assigned  \n",
              "1                          128.0          20  Cancelled Before Driver Assigned  \n",
              "2                           46.0          12   Cancelled After Driver Assigned  \n",
              "3                           62.0          13   Cancelled After Driver Assigned  \n",
              "4                            0.0          21                   System Rejected  "
            ]
          },
          "execution_count": 72,
          "metadata": {},
          "output_type": "execute_result"
        }
      ],
      "source": [
        "failed_orders.head()"
      ]
    },
    {
      "cell_type": "code",
      "execution_count": 101,
      "metadata": {},
      "outputs": [
        {
          "name": "stdout",
          "output_type": "stream",
          "text": [
            "✅ Map saved as 'failure_hotspots.html'\n"
          ]
        }
      ],
      "source": [
        "import folium\n",
        "import h3\n",
        "import pandas as pd\n",
        "\n",
        "# Set H3 resolution (6 = city-level granularity)\n",
        "resolution = 6\n",
        "\n",
        "# Convert lat/lon to H3 hex indexes\n",
        "failed_orders['hex'] = failed_orders.apply(\n",
        "    lambda row: h3.latlng_to_cell(row['origin_latitude'], row['origin_longitude'], resolution),\n",
        "    axis=1\n",
        ")\n",
        "\n",
        "# Count failed orders per hex\n",
        "hex_counts = failed_orders['hex'].value_counts().reset_index()\n",
        "hex_counts.columns = ['hex', 'failures']\n",
        "\n",
        "# Calculate cumulative failure coverage\n",
        "hex_counts['cum_sum'] = hex_counts['failures'].cumsum()\n",
        "total_failures = hex_counts['failures'].sum()\n",
        "hex_counts['cum_perc'] = hex_counts['cum_sum'] / total_failures\n",
        "\n",
        "# Select hexes that account for top 80% of failures\n",
        "top_hexes = hex_counts[hex_counts['cum_perc'] <= 0.8]\n",
        "\n",
        "# Helper: convert H3 hex index to [lat, lon] polygon\n",
        "def h3_to_polygon(h3_index):\n",
        "    boundary = h3.cell_to_boundary(h3_index)\n",
        "    return [[lat, lon] for lat, lon in boundary]\n",
        "\n",
        "# Initialize map centered at mean failure location\n",
        "map_center = [\n",
        "    failed_orders['origin_latitude'].mean(),\n",
        "    failed_orders['origin_longitude'].mean()\n",
        "]\n",
        "m = folium.Map(\n",
        "    location=map_center,\n",
        "    zoom_start=11,\n",
        "    tiles='OpenStreetMap',\n",
        "    attr='Map data © OpenStreetMap contributors'\n",
        ")\n",
        "\n",
        "# Plot top failure hexes on the map\n",
        "for _, row in top_hexes.iterrows():\n",
        "    hex_poly = h3_to_polygon(row['hex'])\n",
        "    folium.Polygon(\n",
        "        locations=hex_poly,\n",
        "        color='crimson',\n",
        "        fill=True,\n",
        "        fill_opacity=0.65,\n",
        "        weight=1.5,\n",
        "        tooltip=f\"{row['failures']} failures\"\n",
        "    ).add_to(m)\n",
        "\n",
        "# Save the interactive map\n",
        "m.save(\"failure_hotspots.html\")\n",
        "print(\"✅ Map saved as 'failure_hotspots.html'\")\n"
      ]
    },
    {
      "cell_type": "code",
      "execution_count": 95,
      "metadata": {},
      "outputs": [
        {
          "name": "stdout",
          "output_type": "stream",
          "text": [
            "Total failure hexes: 7\n",
            "Top 80% failure hexes: 1\n",
            "               hex  failures  cum_sum  cum_perc\n",
            "0  86195d2b7ffffff      7249     7249  0.676465\n"
          ]
        }
      ],
      "source": [
        "print(f\"Total failure hexes: {len(hex_counts)}\")\n",
        "print(f\"Top 80% failure hexes: {len(top_hexes)}\")\n",
        "print(top_hexes.head())\n"
      ]
    },
    {
      "cell_type": "markdown",
      "metadata": {},
      "source": [
        "**Q1: What are the reasons for failure?**\n",
        "Cancelled Before Driver Assigned is the most common failure type, accounting for approximately 4,500 failed orders. This is followed by System Rejected orders at around 3,500 cases, and Cancelled After Driver Assigned at approximately 2,800 cases.\n",
        "\n",
        "The dominance of pre-assignment cancellations suggests that customers are losing patience during the initial matching phase, likely due to long wait times or lack of available drivers in their area.\n",
        "\n",
        "**Q2: When do failures happen the most?**\n",
        "Failed orders show distinct temporal patterns throughout the day:\n",
        "\n",
        "Morning rush hour (around 8 AM) experiences the highest failure spike, with over 1,000 total failed orders\n",
        "\n",
        "Evening peak hours (7-9 PM) also show elevated failure rates of 800+ orders\n",
        "\n",
        "Early morning hours (4-6 AM) have the lowest failure rates\n",
        "\n",
        "Late evening hours (10 PM-midnight) maintain moderately high failure levels\n",
        "\n",
        "The morning rush hour represents the most critical time window for service reliability issues.\n",
        "\n",
        "**Q3: How long do cancellations take, with and without driver?**\n",
        "There's a significant difference in cancellation timing based on driver assignment status:\n",
        "\n",
        "Orders with assigned drivers take much longer to cancel, averaging 200-300+ seconds across most hours\n",
        "\n",
        "Orders without assigned drivers cancel much faster, typically within 40-80 seconds\n",
        "\n",
        "Peak cancellation times for assigned drivers occur during early morning hours (midnight-6 AM), reaching over 310 seconds\n",
        "\n",
        "The pattern suggests customers wait longer when they know a driver is coming, but cancel quickly when no driver is assigned\n",
        "\n",
        "**Q4: Does ETA impact failure?**\n",
        "Average ETA shows strong correlation with business hours and potentially with failure patterns:\n",
        "\n",
        "Lowest ETAs occur during early morning hours (40-60 seconds)\n",
        "\n",
        "Peak ETA reaches approximately 220+ seconds around 11 AM\n",
        "\n",
        "Business hours (6 AM-6 PM) consistently show higher ETAs (150-220 seconds)\n",
        "\n",
        "Evening hours see ETAs drop to around 70-140 seconds\n",
        "\n",
        "The correlation between high ETA periods and failure spikes (particularly during morning rush) suggests that longer estimated wait times contribute to higher cancellation rates.\n",
        "\n",
        "Key Business Insights\n",
        "Critical Issues:\n",
        "\n",
        "Pre-assignment cancellations dominate failures, indicating insufficient driver availability during matching\n",
        "\n",
        "Morning rush hour represents the highest risk period for service disruption\n",
        "\n",
        "Extended ETAs during business hours likely contribute to customer frustration and cancellations\n",
        "\n",
        "**Recommendations:**\n",
        "\n",
        "Improve driver allocation algorithms during peak hours (8 AM, 7-9 PM)\n",
        "\n",
        "Implement dynamic pricing or incentives to increase driver availability during high-demand periods\n",
        "\n",
        "Enhance ETA accuracy and communication to manage customer expectations\n",
        "\n",
        "Focus on reducing initial matching time to prevent pre-assignment cancellations"
      ]
    },
    {
      "cell_type": "markdown",
      "metadata": {},
      "source": [
        "**Business Implications**\n",
        "*Critical Hotspot Identification:*\n",
        "The data reveals that Gett's failure problem is not spread across the city but is instead highly concentrated in one specific geographic area. This represents both a challenge and an opportunity:\n",
        "\n",
        "*Challenges:*\n",
        "\n",
        "Severe service reliability issues in the primary hotspot area\n",
        "\n",
        "Potential driver shortage or inefficient matching in this specific location\n",
        "\n",
        "Customer experience degradation concentrated in one zone\n",
        "\n",
        "*Opportunities:*\n",
        "Targeted intervention can address the majority of platform failures\n",
        "\n",
        "Resource optimization by focusing driver allocation efforts on one key area\n",
        "\n",
        "High ROI potential since fixing one location impacts 67.6% of all failures"
      ]
    },
    {
      "cell_type": "markdown",
      "metadata": {},
      "source": []
    }
  ],
  "metadata": {
    "colab": {
      "provenance": []
    },
    "kernelspec": {
      "display_name": "delivery_ds_project",
      "language": "python",
      "name": "python3"
    },
    "language_info": {
      "codemirror_mode": {
        "name": "ipython",
        "version": 3
      },
      "file_extension": ".py",
      "mimetype": "text/x-python",
      "name": "python",
      "nbconvert_exporter": "python",
      "pygments_lexer": "ipython3",
      "version": "3.10.18"
    }
  },
  "nbformat": 4,
  "nbformat_minor": 0
}
